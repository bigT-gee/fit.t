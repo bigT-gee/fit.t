{
 "cells": [
  {
   "cell_type": "code",
   "execution_count": 55,
   "id": "3a6e4f52",
   "metadata": {},
   "outputs": [],
   "source": [
    "# For this project we will need the following libraries and modules\n",
    "import numpy as np\n",
    "import os\n",
    "import pandas as pd\n",
    "import statsmodels.api as sm\n",
    "import matplotlib.pyplot as plt\n",
    "from sklearn.linear_model import LinearRegression\n",
    "import seaborn as sns\n",
    "sns.set()"
   ]
  },
  {
   "cell_type": "code",
   "execution_count": 56,
   "id": "8377d14f",
   "metadata": {},
   "outputs": [],
   "source": [
    "gym_data = pd.read_csv(r'C:\\Users\\hp\\Downloads\\workout.csv')"
   ]
  },
  {
   "cell_type": "code",
   "execution_count": 57,
   "id": "36ffef0d",
   "metadata": {},
   "outputs": [
    {
     "data": {
      "text/html": [
       "<div>\n",
       "<style scoped>\n",
       "    .dataframe tbody tr th:only-of-type {\n",
       "        vertical-align: middle;\n",
       "    }\n",
       "\n",
       "    .dataframe tbody tr th {\n",
       "        vertical-align: top;\n",
       "    }\n",
       "\n",
       "    .dataframe thead th {\n",
       "        text-align: right;\n",
       "    }\n",
       "</style>\n",
       "<table border=\"1\" class=\"dataframe\">\n",
       "  <thead>\n",
       "    <tr style=\"text-align: right;\">\n",
       "      <th></th>\n",
       "      <th>Age</th>\n",
       "      <th>Height</th>\n",
       "      <th>Weight</th>\n",
       "      <th>Body_Type</th>\n",
       "      <th>Index</th>\n",
       "      <th>Shape</th>\n",
       "    </tr>\n",
       "  </thead>\n",
       "  <tbody>\n",
       "    <tr>\n",
       "      <th>0</th>\n",
       "      <td>56</td>\n",
       "      <td>194</td>\n",
       "      <td>72</td>\n",
       "      <td>Ectomorph</td>\n",
       "      <td>0</td>\n",
       "      <td>slender</td>\n",
       "    </tr>\n",
       "    <tr>\n",
       "      <th>1</th>\n",
       "      <td>69</td>\n",
       "      <td>151</td>\n",
       "      <td>68</td>\n",
       "      <td>Ectomorph</td>\n",
       "      <td>0</td>\n",
       "      <td>slender</td>\n",
       "    </tr>\n",
       "    <tr>\n",
       "      <th>2</th>\n",
       "      <td>46</td>\n",
       "      <td>176</td>\n",
       "      <td>58</td>\n",
       "      <td>Ectomorph</td>\n",
       "      <td>0</td>\n",
       "      <td>slender</td>\n",
       "    </tr>\n",
       "    <tr>\n",
       "      <th>3</th>\n",
       "      <td>32</td>\n",
       "      <td>180</td>\n",
       "      <td>84</td>\n",
       "      <td>Ectomorph</td>\n",
       "      <td>0</td>\n",
       "      <td>slender</td>\n",
       "    </tr>\n",
       "    <tr>\n",
       "      <th>4</th>\n",
       "      <td>60</td>\n",
       "      <td>185</td>\n",
       "      <td>70</td>\n",
       "      <td>Ectomorph</td>\n",
       "      <td>0</td>\n",
       "      <td>slender</td>\n",
       "    </tr>\n",
       "  </tbody>\n",
       "</table>\n",
       "</div>"
      ],
      "text/plain": [
       "   Age  Height  Weight  Body_Type  Index    Shape\n",
       "0   56     194      72  Ectomorph      0  slender\n",
       "1   69     151      68  Ectomorph      0  slender\n",
       "2   46     176      58  Ectomorph      0  slender\n",
       "3   32     180      84  Ectomorph      0  slender\n",
       "4   60     185      70  Ectomorph      0  slender"
      ]
     },
     "execution_count": 57,
     "metadata": {},
     "output_type": "execute_result"
    }
   ],
   "source": [
    "# Let's explore the top 5 rows of our data frame:\n",
    "gym_data.head()"
   ]
  },
  {
   "cell_type": "code",
   "execution_count": 58,
   "id": "3a1a89e2",
   "metadata": {},
   "outputs": [
    {
     "data": {
      "text/html": [
       "<div>\n",
       "<style scoped>\n",
       "    .dataframe tbody tr th:only-of-type {\n",
       "        vertical-align: middle;\n",
       "    }\n",
       "\n",
       "    .dataframe tbody tr th {\n",
       "        vertical-align: top;\n",
       "    }\n",
       "\n",
       "    .dataframe thead th {\n",
       "        text-align: right;\n",
       "    }\n",
       "</style>\n",
       "<table border=\"1\" class=\"dataframe\">\n",
       "  <thead>\n",
       "    <tr style=\"text-align: right;\">\n",
       "      <th></th>\n",
       "      <th>Age</th>\n",
       "      <th>Height</th>\n",
       "      <th>Weight</th>\n",
       "      <th>Index</th>\n",
       "    </tr>\n",
       "  </thead>\n",
       "  <tbody>\n",
       "    <tr>\n",
       "      <th>count</th>\n",
       "      <td>4500.000000</td>\n",
       "      <td>4500.000000</td>\n",
       "      <td>4500.000000</td>\n",
       "      <td>4500.000000</td>\n",
       "    </tr>\n",
       "    <tr>\n",
       "      <th>mean</th>\n",
       "      <td>48.712444</td>\n",
       "      <td>177.682889</td>\n",
       "      <td>81.212222</td>\n",
       "      <td>1.000000</td>\n",
       "    </tr>\n",
       "    <tr>\n",
       "      <th>std</th>\n",
       "      <td>17.998332</td>\n",
       "      <td>12.562150</td>\n",
       "      <td>15.961573</td>\n",
       "      <td>0.816587</td>\n",
       "    </tr>\n",
       "    <tr>\n",
       "      <th>min</th>\n",
       "      <td>18.000000</td>\n",
       "      <td>150.000000</td>\n",
       "      <td>50.000000</td>\n",
       "      <td>0.000000</td>\n",
       "    </tr>\n",
       "    <tr>\n",
       "      <th>25%</th>\n",
       "      <td>33.000000</td>\n",
       "      <td>168.000000</td>\n",
       "      <td>70.000000</td>\n",
       "      <td>0.000000</td>\n",
       "    </tr>\n",
       "    <tr>\n",
       "      <th>50%</th>\n",
       "      <td>49.000000</td>\n",
       "      <td>178.000000</td>\n",
       "      <td>80.000000</td>\n",
       "      <td>1.000000</td>\n",
       "    </tr>\n",
       "    <tr>\n",
       "      <th>75%</th>\n",
       "      <td>65.000000</td>\n",
       "      <td>188.000000</td>\n",
       "      <td>92.000000</td>\n",
       "      <td>2.000000</td>\n",
       "    </tr>\n",
       "    <tr>\n",
       "      <th>max</th>\n",
       "      <td>79.000000</td>\n",
       "      <td>199.000000</td>\n",
       "      <td>119.000000</td>\n",
       "      <td>2.000000</td>\n",
       "    </tr>\n",
       "  </tbody>\n",
       "</table>\n",
       "</div>"
      ],
      "text/plain": [
       "               Age       Height       Weight        Index\n",
       "count  4500.000000  4500.000000  4500.000000  4500.000000\n",
       "mean     48.712444   177.682889    81.212222     1.000000\n",
       "std      17.998332    12.562150    15.961573     0.816587\n",
       "min      18.000000   150.000000    50.000000     0.000000\n",
       "25%      33.000000   168.000000    70.000000     0.000000\n",
       "50%      49.000000   178.000000    80.000000     1.000000\n",
       "75%      65.000000   188.000000    92.000000     2.000000\n",
       "max      79.000000   199.000000   119.000000     2.000000"
      ]
     },
     "execution_count": 58,
     "metadata": {},
     "output_type": "execute_result"
    }
   ],
   "source": [
    "# Descriptive statistics are very useful for initial exploration of the variables\n",
    "# By default, only descriptives for the numerical variables are shown when we write:\n",
    "\n",
    "gym_data.describe()"
   ]
  },
  {
   "cell_type": "code",
   "execution_count": 59,
   "id": "3a739dc1",
   "metadata": {},
   "outputs": [
    {
     "name": "stdout",
     "output_type": "stream",
     "text": [
      "<class 'pandas.core.frame.DataFrame'>\n",
      "RangeIndex: 4500 entries, 0 to 4499\n",
      "Data columns (total 6 columns):\n",
      " #   Column     Non-Null Count  Dtype \n",
      "---  ------     --------------  ----- \n",
      " 0   Age        4500 non-null   int64 \n",
      " 1   Height     4500 non-null   int64 \n",
      " 2   Weight     4500 non-null   int64 \n",
      " 3   Body_Type  4500 non-null   object\n",
      " 4   Index      4500 non-null   int64 \n",
      " 5   Shape      4500 non-null   object\n",
      "dtypes: int64(4), object(2)\n",
      "memory usage: 211.1+ KB\n"
     ]
    }
   ],
   "source": [
    "# To see our columns and the data types in each:\n",
    "gym_data.info()"
   ]
  },
  {
   "cell_type": "code",
   "execution_count": 60,
   "id": "5f4297e9",
   "metadata": {},
   "outputs": [
    {
     "data": {
      "text/html": [
       "<div>\n",
       "<style scoped>\n",
       "    .dataframe tbody tr th:only-of-type {\n",
       "        vertical-align: middle;\n",
       "    }\n",
       "\n",
       "    .dataframe tbody tr th {\n",
       "        vertical-align: top;\n",
       "    }\n",
       "\n",
       "    .dataframe thead th {\n",
       "        text-align: right;\n",
       "    }\n",
       "</style>\n",
       "<table border=\"1\" class=\"dataframe\">\n",
       "  <thead>\n",
       "    <tr style=\"text-align: right;\">\n",
       "      <th></th>\n",
       "      <th>Age</th>\n",
       "      <th>Height</th>\n",
       "      <th>Weight</th>\n",
       "      <th>Index</th>\n",
       "      <th>Shape</th>\n",
       "    </tr>\n",
       "  </thead>\n",
       "  <tbody>\n",
       "    <tr>\n",
       "      <th>count</th>\n",
       "      <td>4500.000000</td>\n",
       "      <td>4500.000000</td>\n",
       "      <td>4500.000000</td>\n",
       "      <td>4500.000000</td>\n",
       "      <td>4500</td>\n",
       "    </tr>\n",
       "    <tr>\n",
       "      <th>unique</th>\n",
       "      <td>NaN</td>\n",
       "      <td>NaN</td>\n",
       "      <td>NaN</td>\n",
       "      <td>NaN</td>\n",
       "      <td>3</td>\n",
       "    </tr>\n",
       "    <tr>\n",
       "      <th>top</th>\n",
       "      <td>NaN</td>\n",
       "      <td>NaN</td>\n",
       "      <td>NaN</td>\n",
       "      <td>NaN</td>\n",
       "      <td>slender</td>\n",
       "    </tr>\n",
       "    <tr>\n",
       "      <th>freq</th>\n",
       "      <td>NaN</td>\n",
       "      <td>NaN</td>\n",
       "      <td>NaN</td>\n",
       "      <td>NaN</td>\n",
       "      <td>1500</td>\n",
       "    </tr>\n",
       "    <tr>\n",
       "      <th>mean</th>\n",
       "      <td>48.712444</td>\n",
       "      <td>177.682889</td>\n",
       "      <td>81.212222</td>\n",
       "      <td>1.000000</td>\n",
       "      <td>NaN</td>\n",
       "    </tr>\n",
       "    <tr>\n",
       "      <th>std</th>\n",
       "      <td>17.998332</td>\n",
       "      <td>12.562150</td>\n",
       "      <td>15.961573</td>\n",
       "      <td>0.816587</td>\n",
       "      <td>NaN</td>\n",
       "    </tr>\n",
       "    <tr>\n",
       "      <th>min</th>\n",
       "      <td>18.000000</td>\n",
       "      <td>150.000000</td>\n",
       "      <td>50.000000</td>\n",
       "      <td>0.000000</td>\n",
       "      <td>NaN</td>\n",
       "    </tr>\n",
       "    <tr>\n",
       "      <th>25%</th>\n",
       "      <td>33.000000</td>\n",
       "      <td>168.000000</td>\n",
       "      <td>70.000000</td>\n",
       "      <td>0.000000</td>\n",
       "      <td>NaN</td>\n",
       "    </tr>\n",
       "    <tr>\n",
       "      <th>50%</th>\n",
       "      <td>49.000000</td>\n",
       "      <td>178.000000</td>\n",
       "      <td>80.000000</td>\n",
       "      <td>1.000000</td>\n",
       "      <td>NaN</td>\n",
       "    </tr>\n",
       "    <tr>\n",
       "      <th>75%</th>\n",
       "      <td>65.000000</td>\n",
       "      <td>188.000000</td>\n",
       "      <td>92.000000</td>\n",
       "      <td>2.000000</td>\n",
       "      <td>NaN</td>\n",
       "    </tr>\n",
       "    <tr>\n",
       "      <th>max</th>\n",
       "      <td>79.000000</td>\n",
       "      <td>199.000000</td>\n",
       "      <td>119.000000</td>\n",
       "      <td>2.000000</td>\n",
       "      <td>NaN</td>\n",
       "    </tr>\n",
       "  </tbody>\n",
       "</table>\n",
       "</div>"
      ],
      "text/plain": [
       "                Age       Height       Weight        Index    Shape\n",
       "count   4500.000000  4500.000000  4500.000000  4500.000000     4500\n",
       "unique          NaN          NaN          NaN          NaN        3\n",
       "top             NaN          NaN          NaN          NaN  slender\n",
       "freq            NaN          NaN          NaN          NaN     1500\n",
       "mean      48.712444   177.682889    81.212222     1.000000      NaN\n",
       "std       17.998332    12.562150    15.961573     0.816587      NaN\n",
       "min       18.000000   150.000000    50.000000     0.000000      NaN\n",
       "25%       33.000000   168.000000    70.000000     0.000000      NaN\n",
       "50%       49.000000   178.000000    80.000000     1.000000      NaN\n",
       "75%       65.000000   188.000000    92.000000     2.000000      NaN\n",
       "max       79.000000   199.000000   119.000000     2.000000      NaN"
      ]
     },
     "execution_count": 60,
     "metadata": {},
     "output_type": "execute_result"
    }
   ],
   "source": [
    "# We will keep columns of interest and drop others where and when necessary. \n",
    "data = gym_data.drop(['Body_Type',],axis=1)\n",
    "\n",
    "# Let's check the descriptives without dropped columns\n",
    "data.describe(include='all')"
   ]
  },
  {
   "cell_type": "code",
   "execution_count": 61,
   "id": "fa71c696",
   "metadata": {},
   "outputs": [
    {
     "data": {
      "text/plain": [
       "Age       0\n",
       "Height    0\n",
       "Weight    0\n",
       "Index     0\n",
       "Shape     0\n",
       "dtype: int64"
      ]
     },
     "execution_count": 61,
     "metadata": {},
     "output_type": "execute_result"
    }
   ],
   "source": [
    "# We use: \n",
    "# data.isnull() \n",
    "# to show our data frame (df) with relevant information whether a data point is null \n",
    "# Since True = the data point is missing, while False = the data point is not missing, we can sum them\n",
    "# This will give us the total number of missing values feature-wise\n",
    "data.isnull().sum()"
   ]
  },
  {
   "cell_type": "code",
   "execution_count": 9,
   "id": "562d8762",
   "metadata": {},
   "outputs": [],
   "source": [
    "import pandas as pd\n",
    "\n",
    "# Assuming df is your DataFrame containing the dataset\n",
    "# Fill null values in the \"Age\" column with the median age\n",
    "median_age = data['Age'].median()\n",
    "data['Age'].fillna(median_age, inplace=True)\n",
    "\n",
    "# Fill null values in the \"Weight\" column with the median weight\n",
    "median_weight = data['Weight'].median()\n",
    "data['Weight'].fillna(median_weight, inplace=True)\n"
   ]
  },
  {
   "cell_type": "code",
   "execution_count": 10,
   "id": "0f23737c",
   "metadata": {},
   "outputs": [
    {
     "data": {
      "text/plain": [
       "index     0\n",
       "Height    0\n",
       "Age       0\n",
       "Weight    0\n",
       "dtype: int64"
      ]
     },
     "execution_count": 10,
     "metadata": {},
     "output_type": "execute_result"
    }
   ],
   "source": [
    "data.isnull().sum()"
   ]
  },
  {
   "cell_type": "code",
   "execution_count": null,
   "id": "f978193a",
   "metadata": {},
   "outputs": [],
   "source": [
    "# Random Forest Model"
   ]
  },
  {
   "cell_type": "code",
   "execution_count": 70,
   "id": "3aa9c626",
   "metadata": {},
   "outputs": [],
   "source": [
    "import pandas as pd\n",
    "from sklearn.model_selection import train_test_split\n",
    "from sklearn.ensemble import RandomForestClassifier\n",
    "from sklearn.metrics import classification_report\n",
    "\n",
    "# Perform one-hot encoding on the 'Shape' column\n",
    "encoded_data = pd.get_dummies(data, columns=['Shape'])\n",
    "\n",
    "# Split data into features (X) and target (y)\n",
    "X = encoded_data.drop('Index', axis=1)  # Assuming 'Index' is the target column\n",
    "y = encoded_data['Index']\n",
    "\n",
    "# Split data into training and testing sets (80% train, 20% test)\n",
    "X_train, X_test, y_train, y_test = train_test_split(X, y, test_size=0.2, random_state=42)\n"
   ]
  },
  {
   "cell_type": "code",
   "execution_count": 71,
   "id": "1fc7eaa9",
   "metadata": {
    "scrolled": true
   },
   "outputs": [
    {
     "data": {
      "text/plain": [
       "RandomForestClassifier(random_state=42)"
      ]
     },
     "execution_count": 71,
     "metadata": {},
     "output_type": "execute_result"
    }
   ],
   "source": [
    "# Initialize and train the RandomForestClassifier\n",
    "model = RandomForestClassifier(random_state=42)\n",
    "model.fit(X_train, y_train)\n"
   ]
  },
  {
   "cell_type": "code",
   "execution_count": 72,
   "id": "743229e5",
   "metadata": {},
   "outputs": [],
   "source": [
    "# Make predictions on the testing set\n",
    "y_pred = model.predict(X_test)"
   ]
  },
  {
   "cell_type": "code",
   "execution_count": 73,
   "id": "36bd650d",
   "metadata": {},
   "outputs": [
    {
     "name": "stdout",
     "output_type": "stream",
     "text": [
      "              precision    recall  f1-score   support\n",
      "\n",
      "           0       1.00      1.00      1.00       311\n",
      "           1       1.00      1.00      1.00       295\n",
      "           2       1.00      1.00      1.00       294\n",
      "\n",
      "    accuracy                           1.00       900\n",
      "   macro avg       1.00      1.00      1.00       900\n",
      "weighted avg       1.00      1.00      1.00       900\n",
      "\n"
     ]
    }
   ],
   "source": [
    "# Evaluate the model\n",
    "print(classification_report(y_test, y_pred))"
   ]
  },
  {
   "cell_type": "code",
   "execution_count": 78,
   "id": "775e3876",
   "metadata": {},
   "outputs": [
    {
     "name": "stdout",
     "output_type": "stream",
     "text": [
      "Predicted body type: 0\n"
     ]
    }
   ],
   "source": [
    "# Example input data\n",
    "new_data = {\n",
    "    'Age': [25],     # Age of the individual\n",
    "    'Weight': [65],  # Weight of the individual\n",
    "    'Height': [170], # Height of the individual\n",
    "    'Shape_athletic': [0], # One-hot encoded shape: 1 if athletic, 0 otherwise\n",
    "    'Shape_round': [0],    # One-hot encoded shape: 1 if round, 0 otherwise\n",
    "    'Shape_slender': [1]   # One-hot encoded shape: 1 if slender, 0 otherwise\n",
    "}\n",
    "\n",
    "# Create a DataFrame from the input data\n",
    "new_df = pd.DataFrame(new_data)\n",
    "\n",
    "# Make predictions using the trained model\n",
    "predictions = model.predict(new_df)\n",
    "\n",
    "# Print the predictions\n",
    "print(\"Predicted body type:\", predictions[0])\n"
   ]
  },
  {
   "cell_type": "code",
   "execution_count": 82,
   "id": "52db2533",
   "metadata": {},
   "outputs": [
    {
     "name": "stdout",
     "output_type": "stream",
     "text": [
      "Predicted body type: mesomorph\n"
     ]
    }
   ],
   "source": [
    "# Example input data\n",
    "new_data = {\n",
    "    'Age': [35],     # Age of the individual\n",
    "    'Weight': [75],  # Weight of the individual\n",
    "    'Height': [170], # Height of the individual\n",
    "    'Shape_athletic': [1], # One-hot encoded shape: 1 if athletic, 0 otherwise\n",
    "    'Shape_round': [0],    # One-hot encoded shape: 1 if round, 0 otherwise\n",
    "    'Shape_slender': [0]   # One-hot encoded shape: 1 if slender, 0 otherwise\n",
    "}\n",
    "\n",
    "# Create a DataFrame from the input data\n",
    "new_df = pd.DataFrame(new_data)\n",
    "\n",
    "# Make predictions using the trained model\n",
    "predictions = model.predict(new_df)\n",
    "\n",
    "# Map predicted labels to actual body types\n",
    "body_types = {0: 'ectomorph', 1: 'mesomorph', 2: 'endomorph'}\n",
    "\n",
    "# Print the predicted body type\n",
    "print(\"Predicted body type:\", body_types[predictions[0]])\n"
   ]
  },
  {
   "cell_type": "code",
   "execution_count": null,
   "id": "cd85d6e2",
   "metadata": {},
   "outputs": [],
   "source": []
  }
 ],
 "metadata": {
  "kernelspec": {
   "display_name": "Python 3 (ipykernel)",
   "language": "python",
   "name": "python3"
  },
  "language_info": {
   "codemirror_mode": {
    "name": "ipython",
    "version": 3
   },
   "file_extension": ".py",
   "mimetype": "text/x-python",
   "name": "python",
   "nbconvert_exporter": "python",
   "pygments_lexer": "ipython3",
   "version": "3.9.7"
  }
 },
 "nbformat": 4,
 "nbformat_minor": 5
}
